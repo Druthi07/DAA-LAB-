{
 "cells": [
  {
   "cell_type": "code",
   "execution_count": 9,
   "id": "2ad1f305",
   "metadata": {},
   "outputs": [
    {
     "name": "stdout",
     "output_type": "stream",
     "text": [
      "100007 20000 "
     ]
    }
   ],
   "source": [
    "def LeaderArray(Array, size):\n",
    "    for i in range(0,size):\n",
    "        k = Array[i]            \n",
    "        Break=0\n",
    "        for j in range(i+1,size):\n",
    "            if(Array[j]>=k):    \n",
    "                Break=1\n",
    "                break         \n",
    "        if(Break==0):\n",
    "            print(k,end=\" \")  \n",
    "\n",
    "Array = [16,100007,4,3,5,20000]\n",
    "size = len(Array)\n",
    "LeaderArray(Array, size) "
   ]
  },
  {
   "cell_type": "code",
   "execution_count": 1,
   "id": "33029e6a",
   "metadata": {},
   "outputs": [
    {
     "name": "stdout",
     "output_type": "stream",
     "text": [
      "1 9 1 6 2 5 3 5 3 5 4\n"
     ]
    }
   ],
   "source": [
    "ZZ =  [3, 1, 4, 1, 5, 9, 2, 6, 5, 3, 5]\n",
    "ZZ.sort()\n",
    "\n",
    "def print_list(ZZ):\n",
    "    while len(ZZ) > 1:  \n",
    "        print(ZZ[0], ZZ[-1], sep = \" \", end= \" \")\n",
    "        ZZ.pop(0)\n",
    "        if ZZ:\n",
    "            ZZ.pop(-1)    \n",
    "    print(ZZ[0]) \n",
    "    \n",
    "\n",
    "\n",
    "print_list(ZZ)   "
   ]
  },
  {
   "cell_type": "code",
   "execution_count": null,
   "id": "daee3930",
   "metadata": {},
   "outputs": [],
   "source": []
  }
 ],
 "metadata": {
  "kernelspec": {
   "display_name": "Python 3 (ipykernel)",
   "language": "python",
   "name": "python3"
  },
  "language_info": {
   "codemirror_mode": {
    "name": "ipython",
    "version": 3
   },
   "file_extension": ".py",
   "mimetype": "text/x-python",
   "name": "python",
   "nbconvert_exporter": "python",
   "pygments_lexer": "ipython3",
   "version": "3.9.12"
  }
 },
 "nbformat": 4,
 "nbformat_minor": 5
}
