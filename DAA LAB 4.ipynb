{
 "cells": [
  {
   "cell_type": "code",
   "execution_count": 1,
   "id": "c2e7347f",
   "metadata": {},
   "outputs": [
    {
     "name": "stdout",
     "output_type": "stream",
     "text": [
      "2 1 0 \n",
      "3 4 5 \n",
      "8 7 6 \n"
     ]
    }
   ],
   "source": [
    "\n",
    "# DIAGONAL INTERCHANGE\n",
    "#0 1 2 -  2 1 0\n",
    "#3 4 5 -  3 4 5\n",
    "#6 7 8 -  8 7 6\n",
    "a = [[0, 1, 2], [3, 4, 5], [6, 7, 8]] \n",
    "\n",
    "for i in range(len(a)):\n",
    "    if i % 2 == 0:\n",
    "        a[i].reverse()  \n",
    "for row in a:\n",
    "    for element in row:\n",
    "        print(element, end=\" \")\n",
    "    print()\n",
    "\n"
   ]
  },
  {
   "cell_type": "code",
   "execution_count": 3,
   "id": "2393d353",
   "metadata": {},
   "outputs": [
    {
     "name": "stdout",
     "output_type": "stream",
     "text": [
      "[2, 3, 1, 0, 4, 5, 7, 6, 9, 8]\n",
      "[0, 1, 2, 3, 4, 5, 6, 7, 8, 9]\n"
     ]
    }
   ],
   "source": [
    "\n",
    "# index = 0 1 2 3 4 5 6 7 8 9\n",
    "#     a = 2 3 1 0 4 5 7 6 9 8\n",
    "a = [2,3,1,0,4,5,7,6,9,8]\n",
    "print(a)\n",
    "output=list(range(len(a)))\n",
    "print(output)\n"
   ]
  },
  {
   "cell_type": "code",
   "execution_count": null,
   "id": "3239339a",
   "metadata": {},
   "outputs": [],
   "source": []
  }
 ],
 "metadata": {
  "kernelspec": {
   "display_name": "Python 3 (ipykernel)",
   "language": "python",
   "name": "python3"
  },
  "language_info": {
   "codemirror_mode": {
    "name": "ipython",
    "version": 3
   },
   "file_extension": ".py",
   "mimetype": "text/x-python",
   "name": "python",
   "nbconvert_exporter": "python",
   "pygments_lexer": "ipython3",
   "version": "3.9.12"
  }
 },
 "nbformat": 4,
 "nbformat_minor": 5
}
