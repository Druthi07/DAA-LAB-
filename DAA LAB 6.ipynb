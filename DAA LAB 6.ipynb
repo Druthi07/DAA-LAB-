{
 "cells": [
  {
   "cell_type": "code",
   "execution_count": 1,
   "id": "91007762",
   "metadata": {},
   "outputs": [
    {
     "name": "stdout",
     "output_type": "stream",
     "text": [
      "0 1 0 \n",
      "3 0 2 \n",
      "0 4 0 \n"
     ]
    }
   ],
   "source": [
    "\n",
    "def print_1(mat, n, m):\n",
    "    for i in range(n):\n",
    "        for j in range(m):\n",
    "            print( mat[i][j], end = \" \")\n",
    "        print()\n",
    "def makediagonalzero(mat, n, m):\n",
    "    for i in range(n):\n",
    "        for j in range(m):\n",
    "            if (i == j or (i + j + 1) == n):\n",
    "                mat[i][j] = 0\n",
    "    print_1(mat, n, m)\n",
    "if __name__ == \"__main__\":\n",
    "    n = 3\n",
    "    m = 3\n",
    "    mat = [[ 2, 1, 7 ],\n",
    "        [ 3, 7, 2 ],\n",
    "        [ 5, 4, 9 ]]\n",
    "\n",
    "    makediagonalzero(mat, n, m)\n"
   ]
  },
  {
   "cell_type": "code",
   "execution_count": 2,
   "id": "2da685b3",
   "metadata": {},
   "outputs": [
    {
     "name": "stdout",
     "output_type": "stream",
     "text": [
      "10\n"
     ]
    }
   ],
   "source": [
    "# INTEGER MULTIPLICATION WITHOUT OPERATORS\n",
    "def product( x , y ):\n",
    "    if x < y:\n",
    "        return 0\n",
    "    elif y != 0:\n",
    "        return (x + product(x, y - 1))\n",
    "    else:\n",
    "        return product(y, x)\n",
    "x = 5\n",
    "y = 2\n",
    "print( product(x, y))\n",
    "\n"
   ]
  },
  {
   "cell_type": "code",
   "execution_count": null,
   "id": "3380c2c8",
   "metadata": {},
   "outputs": [],
   "source": []
  }
 ],
 "metadata": {
  "kernelspec": {
   "display_name": "Python 3 (ipykernel)",
   "language": "python",
   "name": "python3"
  },
  "language_info": {
   "codemirror_mode": {
    "name": "ipython",
    "version": 3
   },
   "file_extension": ".py",
   "mimetype": "text/x-python",
   "name": "python",
   "nbconvert_exporter": "python",
   "pygments_lexer": "ipython3",
   "version": "3.9.12"
  }
 },
 "nbformat": 4,
 "nbformat_minor": 5
}
