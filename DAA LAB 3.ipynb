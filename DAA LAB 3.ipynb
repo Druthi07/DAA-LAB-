{
 "cells": [
  {
   "cell_type": "code",
   "execution_count": 1,
   "id": "19324ff3",
   "metadata": {},
   "outputs": [
    {
     "name": "stdout",
     "output_type": "stream",
     "text": [
      "the array after removing duplicates:\n",
      "[1, 10, 11, 12]\n"
     ]
    }
   ],
   "source": [
    "\n",
    "a=[1,10,11,12,11,1]\n",
    "b=[]\n",
    "for i in a:\n",
    "    if i not in b:\n",
    "        b.append(i)\n",
    "print(\"the array after removing duplicates:\")\n",
    "print(b)       \n"
   ]
  },
  {
   "cell_type": "code",
   "execution_count": 2,
   "id": "4940f4ef",
   "metadata": {},
   "outputs": [
    {
     "name": "stdout",
     "output_type": "stream",
     "text": [
      "[1, 12, 11, 10]\n"
     ]
    }
   ],
   "source": [
    "\n",
    "def remove_duplicates(input_list):\n",
    "    if not input_list:\n",
    "        return []\n",
    "\n",
    "    unique_elements = []\n",
    "    for item in input_list:\n",
    "        is_duplicate = False\n",
    "        for unique_item in unique_elements:\n",
    "            if item == unique_item:\n",
    "                is_duplicate = True\n",
    "                break\n",
    "        if not is_duplicate:\n",
    "            unique_elements.insert(len(unique_elements), item) \n",
    "\n",
    "    return unique_elements\n",
    "\n",
    "mixed_list = [1, 12, 11, 10, 11, 1]\n",
    "result = remove_duplicates(mixed_list)\n",
    "print(result)  "
   ]
  },
  {
   "cell_type": "code",
   "execution_count": 3,
   "id": "e60b4166",
   "metadata": {},
   "outputs": [
    {
     "name": "stdout",
     "output_type": "stream",
     "text": [
      "Loop found\n"
     ]
    }
   ],
   "source": [
    "\n",
    "class Node:\n",
    "    def __init__(self, data):\n",
    "        self.data = data\n",
    "        self.next = None\n",
    "\n",
    "class LinkedList:\n",
    "    def __init__(self):\n",
    "        self.head = None\n",
    "\n",
    "    def push(self, new_data):\n",
    "        new_node = Node(new_data)\n",
    "        new_node.next = self.head\n",
    "        self.head = new_node\n",
    "        \n",
    "    def printList(self):\n",
    "        temp = self.head\n",
    "        while(temp):\n",
    "            print(temp.data, end=\" \")\n",
    "            temp = temp.next\n",
    "            \n",
    "    def detect_loop(self):\n",
    "        s = set()\n",
    "        temp = self.head\n",
    "        while(temp):\n",
    "            if temp in s:\n",
    "                return True\n",
    "            s.add(temp)\n",
    "            temp = temp.next\n",
    "        return False  # Return False if no loop is found\n",
    "\n",
    "list = LinkedList()\n",
    "list.push(10)\n",
    "list.push(20)\n",
    "list.push(30)\n",
    "list.push(40)\n",
    "\n",
    "list.head.next.next.next = list.head\n",
    "if list.detect_loop():\n",
    "    print(\"Loop found\")\n",
    "else:\n",
    "    print(\"No loop\")\n"
   ]
  },
  {
   "cell_type": "code",
   "execution_count": 5,
   "id": "aebbee52",
   "metadata": {},
   "outputs": [
    {
     "name": "stdout",
     "output_type": "stream",
     "text": [
      "Sorted array: [1, 1, 2, 3, 3, 4, 5, 5, 5, 6, 9]\n"
     ]
    }
   ],
   "source": [
    "\n",
    "def merge_sort(arr):\n",
    "    if len(arr) <= 1:\n",
    "        return arr\n",
    "\n",
    "    mid = len(arr) // 2\n",
    "    left = arr[:mid]\n",
    "    right = arr[mid:]\n",
    "\n",
    "    left = merge_sort(left)\n",
    "    right = merge_sort(right)\n",
    "\n",
    "    return merge(left, right)\n",
    "\n",
    "def merge(left, right):\n",
    "    result = []\n",
    "    i = j = 0\n",
    "\n",
    "    while i < len(left) and j < len(right):\n",
    "        if left[i] < right[j]:\n",
    "            result.append(left[i])\n",
    "            i += 1\n",
    "        else:\n",
    "            result.append(right[j])\n",
    "            j += 1\n",
    "\n",
    "    result.extend(left[i:])\n",
    "    result.extend(right[j:])\n",
    "    return result\n",
    "\n",
    "# Example usage:\n",
    "arr = [3, 1, 4, 1, 5, 9, 2, 6, 5, 3, 5]\n",
    "sorted_arr = merge_sort(arr)\n",
    "\n",
    "print(\"Sorted array:\", sorted_arr)\n"
   ]
  },
  {
   "cell_type": "code",
   "execution_count": 6,
   "id": "0099b079",
   "metadata": {},
   "outputs": [
    {
     "name": "stdout",
     "output_type": "stream",
     "text": [
      "12\n"
     ]
    }
   ],
   "source": [
    " \n",
    "def max_subarray_sum(arr):\n",
    "    max_sum = float('-inf')\n",
    "    current_sum = 0\n",
    "\n",
    "    for num in arr:\n",
    "        current_sum = max(num, current_sum + num)\n",
    "        max_sum = max(max_sum, current_sum)\n",
    "\n",
    "    return max_sum\n",
    "\n",
    "# Example usage:\n",
    "input_array = [1, -2, 3, -1, 2, 4, -2, 6, -1]\n",
    "result = max_subarray_sum(input_array)\n",
    "print(result)"
   ]
  },
  {
   "cell_type": "code",
   "execution_count": null,
   "id": "ed02758a",
   "metadata": {},
   "outputs": [],
   "source": []
  }
 ],
 "metadata": {
  "kernelspec": {
   "display_name": "Python 3 (ipykernel)",
   "language": "python",
   "name": "python3"
  },
  "language_info": {
   "codemirror_mode": {
    "name": "ipython",
    "version": 3
   },
   "file_extension": ".py",
   "mimetype": "text/x-python",
   "name": "python",
   "nbconvert_exporter": "python",
   "pygments_lexer": "ipython3",
   "version": "3.9.12"
  }
 },
 "nbformat": 4,
 "nbformat_minor": 5
}
