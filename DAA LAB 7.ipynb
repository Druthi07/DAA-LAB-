{
 "cells": [
  {
   "cell_type": "code",
   "execution_count": 1,
   "id": "bdb78304",
   "metadata": {},
   "outputs": [
    {
     "name": "stdout",
     "output_type": "stream",
     "text": [
      "Node with key 60 found in the BST.\n"
     ]
    }
   ],
   "source": [
    "\n",
    "class TreeNode:\n",
    "    def __init__(self, key):\n",
    "        self.key = key\n",
    "        self.left = None\n",
    "        self.right = None\n",
    "\n",
    "def insert(root, key):\n",
    "    if root is None:\n",
    "        return TreeNode(key)\n",
    "    \n",
    "    if key < root.key:\n",
    "        root.left = insert(root.left, key)\n",
    "    elif key > root.key:\n",
    "        root.right = insert(root.right, key)\n",
    "\n",
    "    return root\n",
    "\n",
    "def search(root, key):\n",
    "    if root is None or root.key == key:\n",
    "        return root\n",
    "\n",
    "    if key < root.key:\n",
    "        return search(root.left, key)\n",
    "    else:\n",
    "        return search(root.right, key)\n",
    "root = None\n",
    "\n",
    "\n",
    "keys = [50, 30, 20, 40, 70, 60, 80]\n",
    "\n",
    "for key in keys:\n",
    "    root = insert(root, key)\n",
    "\n",
    "search_key = 60\n",
    "result = search(root, search_key)\n",
    "\n",
    "if result:\n",
    "    print(f\"Node with key {search_key} found in the BST.\")\n",
    "else:\n",
    "    print(f\"Node with key {search_key} not found in the BST.\")\n"
   ]
  },
  {
   "cell_type": "code",
   "execution_count": 2,
   "id": "29f48ef8",
   "metadata": {},
   "outputs": [
    {
     "name": "stdout",
     "output_type": "stream",
     "text": [
      "Sum of leaf nodes: 52\n"
     ]
    }
   ],
   "source": [
    "# LEAF NODE SUM IN A TREE\n",
    "class Node:\n",
    "    def __init__(self, value):\n",
    "        self.value = value\n",
    "        self.left = None\n",
    "        self.right = None\n",
    "def sum_leaf_nodes(root):\n",
    "    if root is None:\n",
    "        return 0\n",
    "    if root.left is None and root.right is None:\n",
    "        return root.value\n",
    "    return sum_leaf_nodes(root.left) + sum_leaf_nodes(root.right)\n",
    "\n",
    "root = Node(10)\n",
    "root.left = Node(8)\n",
    "root.right = Node(20)\n",
    "root.left.left = Node(7)\n",
    "root.left.right = Node(9)\n",
    "root.right.left = Node(15)\n",
    "root.right.right = Node(21)\n",
    "\n",
    "leaf_sum = sum_leaf_nodes(root)\n",
    "print(\"Sum of leaf nodes:\", leaf_sum)"
   ]
  },
  {
   "cell_type": "code",
   "execution_count": 3,
   "id": "4171d268",
   "metadata": {},
   "outputs": [
    {
     "name": "stdout",
     "output_type": "stream",
     "text": [
      "zigzagTraversal order: [[1], [3, 2], [4, 5, 6, 7]]\n"
     ]
    }
   ],
   "source": [
    "class TreeNode:\n",
    "    def __init__(self, value):\n",
    "        self.value = value\n",
    "        self.left = None\n",
    "        self.right = None\n",
    "\n",
    "def zigzagTraversal(root):\n",
    "    if not root:\n",
    "        return []\n",
    "\n",
    "    result = []\n",
    "    queue = [root]\n",
    "    left_to_right = True\n",
    "\n",
    "    while queue:\n",
    "        level_size = len(queue)\n",
    "        current_level = []\n",
    "\n",
    "        for _ in range(level_size):\n",
    "            if left_to_right:\n",
    "                node = queue.pop(0)\n",
    "                current_level.append(node.value)\n",
    "                if node.left:\n",
    "                    queue.append(node.left)\n",
    "                if node.right:\n",
    "                    queue.append(node.right)\n",
    "            else:\n",
    "                node = queue.pop()\n",
    "                current_level.append(node.value)\n",
    "                if node.right:\n",
    "                    queue.insert(0, node.right)\n",
    "                if node.left:\n",
    "                    queue.insert(0, node.left)\n",
    "\n",
    "        result.append(current_level)\n",
    "        left_to_right = not left_to_right\n",
    "\n",
    "    return result\n",
    "\n",
    "root = TreeNode(1)\n",
    "root.left = TreeNode(2)\n",
    "root.right = TreeNode(3)\n",
    "root.left.left = TreeNode(4)\n",
    "root.left.right = TreeNode(5)\n",
    "root.right.left = TreeNode(6)\n",
    "root.right.right = TreeNode(7)\n",
    "\n",
    "result = zigzagTraversal(root)\n",
    "print(\"zigzagTraversal order:\",result)\n"
   ]
  },
  {
   "cell_type": "code",
   "execution_count": null,
   "id": "284f10a1",
   "metadata": {},
   "outputs": [],
   "source": []
  }
 ],
 "metadata": {
  "kernelspec": {
   "display_name": "Python 3 (ipykernel)",
   "language": "python",
   "name": "python3"
  },
  "language_info": {
   "codemirror_mode": {
    "name": "ipython",
    "version": 3
   },
   "file_extension": ".py",
   "mimetype": "text/x-python",
   "name": "python",
   "nbconvert_exporter": "python",
   "pygments_lexer": "ipython3",
   "version": "3.9.12"
  }
 },
 "nbformat": 4,
 "nbformat_minor": 5
}
