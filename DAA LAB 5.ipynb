{
 "cells": [
  {
   "cell_type": "code",
   "execution_count": 1,
   "id": "9388d35f",
   "metadata": {},
   "outputs": [
    {
     "name": "stdout",
     "output_type": "stream",
     "text": [
      "2\n"
     ]
    }
   ],
   "source": [
    "# ROWS WITH MOST NO OF ONE'S\n",
    "array = [[1,0,1,1],[1,1,1,1],[1,0,1,0],[1,0,0,1]]\n",
    "max_count = 0\n",
    "max_row = 0\n",
    "for i in range(len(array)):\n",
    "    count = 0\n",
    "    for j in range(len(array[0])):\n",
    "        if array[i][j] == 1:\n",
    "            count += 1\n",
    "    if count > max_count:\n",
    "        max_count = count\n",
    "        max_row = i\n",
    "print(max_row + 1)\n",
    "\n"
   ]
  },
  {
   "cell_type": "code",
   "execution_count": 2,
   "id": "1e051853",
   "metadata": {},
   "outputs": [
    {
     "name": "stdout",
     "output_type": "stream",
     "text": [
      "Sum of middle row =  34\n",
      "Sum of middle column =  24\n",
      "58\n"
     ]
    }
   ],
   "source": [
    "\n",
    "def middlesum(mat, n):\n",
    "    row_sum = 0\n",
    "    col_sum = 0\n",
    "\n",
    "    for i in range(n):\n",
    "        row_sum += mat[5 // 2][i]\n",
    "\n",
    "    print(\"Sum of middle row = \", row_sum)\n",
    "\n",
    "    for i in range(n):\n",
    "        col_sum += mat[i][5 // 2]\n",
    "\n",
    "    print(\"Sum of middle column = \", col_sum)\n",
    "\n",
    "    return row_sum, col_sum\n",
    "\n",
    "mat = [[1, 2, 3, 4, 5],\n",
    "       [6, 7, 8, 9, 12],\n",
    "       [10, 11, 13, 14, 15]]\n",
    "\n",
    "row_sum, col_sum = middlesum(mat, 3)\n",
    "s = row_sum + col_sum \n",
    "print(s)\n"
   ]
  },
  {
   "cell_type": "code",
   "execution_count": null,
   "id": "26cb6774",
   "metadata": {},
   "outputs": [],
   "source": []
  }
 ],
 "metadata": {
  "kernelspec": {
   "display_name": "Python 3 (ipykernel)",
   "language": "python",
   "name": "python3"
  },
  "language_info": {
   "codemirror_mode": {
    "name": "ipython",
    "version": 3
   },
   "file_extension": ".py",
   "mimetype": "text/x-python",
   "name": "python",
   "nbconvert_exporter": "python",
   "pygments_lexer": "ipython3",
   "version": "3.9.12"
  }
 },
 "nbformat": 4,
 "nbformat_minor": 5
}
